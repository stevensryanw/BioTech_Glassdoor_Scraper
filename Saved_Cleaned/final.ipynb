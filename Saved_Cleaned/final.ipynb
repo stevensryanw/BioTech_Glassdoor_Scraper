{
 "cells": [
  {
   "cell_type": "markdown",
   "metadata": {},
   "source": [
    "Lets create one csv of the name symbol, sector, industry, and avg_salary data from biotech_salaries.csv and another csv of the symbol and upperbound salary data for each job of each company from biotech_salaries.csv"
   ]
  },
  {
   "cell_type": "code",
   "execution_count": 2,
   "metadata": {},
   "outputs": [],
   "source": [
    "import pandas as pd\n",
    "\n",
    "#Import our saved datasets\n",
    "biotech_salaries = pd.read_csv('biotech_salaries_clean_saved.csv')\n",
    "biotech_positions = pd.read_csv('biotech_positions_clean_saved.csv')\n",
    "biotech_comps = pd.read_csv('../biotech_comps_saved.csv')\n",
    "\n",
    "#Change the column name of biotech_comps['name'] to Company\n",
    "biotech_comps.rename(columns={'name':'Company'}, inplace=True)\n",
    "\n",
    "#Merge biotech_comps and biotech_salaries\n",
    "biotech_salaries_comps = pd.merge(biotech_salaries, biotech_comps, on='Company', how='left')\n",
    "\n",
    "#Merge biotech_positions and biotech_comps['Company']\n",
    "biotech_positions_comps = pd.merge(biotech_positions, biotech_comps, on='Company', how='left')\n",
    "\n",
    "biotech_salaries_comps.to_csv('final/biotech_salaries_comps.csv', index=False)\n",
    "biotech_positions_comps.to_csv('final/biotech_positions_comps.csv', index=False)"
   ]
  }
 ],
 "metadata": {
  "kernelspec": {
   "display_name": "Python 3",
   "language": "python",
   "name": "python3"
  },
  "language_info": {
   "codemirror_mode": {
    "name": "ipython",
    "version": 3
   },
   "file_extension": ".py",
   "mimetype": "text/x-python",
   "name": "python",
   "nbconvert_exporter": "python",
   "pygments_lexer": "ipython3",
   "version": "3.11.6"
  }
 },
 "nbformat": 4,
 "nbformat_minor": 2
}
