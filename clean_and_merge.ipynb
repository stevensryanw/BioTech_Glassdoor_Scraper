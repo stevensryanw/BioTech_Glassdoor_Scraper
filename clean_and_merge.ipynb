{
 "cells": [
  {
   "cell_type": "code",
   "execution_count": 4,
   "metadata": {},
   "outputs": [],
   "source": [
    "import pandas as pd\n",
    "\n",
    "#Import biotech salaries positions and comps\n",
    "biotech_salaries = pd.read_csv('biotech_salaries.csv')\n",
    "biotech_positions = pd.read_csv('biotech_positions.csv')\n",
    "biotech_comps = pd.read_csv('biotech_comps_saved.csv')\n",
    "\n",
    "#Lets check salaries for repeated values\n",
    "biotech_salaries = biotech_salaries.drop_duplicates(subset=['Company'], keep='first')\n",
    "\n",
    "#Lets check positions for repeated values\n",
    "biotech_positions = biotech_positions.drop_duplicates(subset=['Company', 'Position'], keep='first')"
   ]
  },
  {
   "cell_type": "code",
   "execution_count": 5,
   "metadata": {},
   "outputs": [
    {
     "name": "stdout",
     "output_type": "stream",
     "text": [
      "0\n"
     ]
    }
   ],
   "source": [
    "#Lets figure out which how many companies havent had their salaries posted or pages that are scrapable\n",
    "#To do this lets compare the so far scraped salaries with all companies in biotech_comps_saved\n",
    "namesScraped = biotech_salaries['Company'].tolist()\n",
    "namesTotal = biotech_comps['name'].tolist()\n",
    "\n",
    "#Lets see which companies have not had their salaries scraped\n",
    "namesNotScraped = []\n",
    "for name in namesTotal:\n",
    "    if name == namesScraped[-1]:\n",
    "        break\n",
    "    if name not in namesScraped:\n",
    "        namesNotScraped.append(name)\n",
    "\n",
    "print(len(namesNotScraped))"
   ]
  },
  {
   "cell_type": "code",
   "execution_count": 6,
   "metadata": {},
   "outputs": [],
   "source": [
    "#Output to csvs\n",
    "biotech_salaries.to_csv('biotech_salaries_clean.csv', index=False)\n",
    "biotech_positions.to_csv('biotech_positions_clean.csv', index=False)"
   ]
  }
 ],
 "metadata": {
  "kernelspec": {
   "display_name": "Python 3",
   "language": "python",
   "name": "python3"
  },
  "language_info": {
   "codemirror_mode": {
    "name": "ipython",
    "version": 3
   },
   "file_extension": ".py",
   "mimetype": "text/x-python",
   "name": "python",
   "nbconvert_exporter": "python",
   "pygments_lexer": "ipython3",
   "version": "3.11.6"
  }
 },
 "nbformat": 4,
 "nbformat_minor": 2
}
